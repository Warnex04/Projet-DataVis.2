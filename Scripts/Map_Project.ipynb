{
 "cells": [
  {
   "cell_type": "code",
   "execution_count": 1,
   "metadata": {},
   "outputs": [],
   "source": [
    "import pandas as pd\n",
    "import matplotlib.pyplot as plt\n",
    "import folium"
   ]
  },
  {
   "cell_type": "code",
   "execution_count": 2,
   "metadata": {},
   "outputs": [],
   "source": [
    "path = \"C:/Users/user/One Drive Epita/OneDrive - EPITA/Documents/Python/Python notebook/Source Files/Data Visualisation Sem2/Data/Combined By Philipe Fontaine/\"\n",
    "\n",
    "df_caracteristiques = pd.read_csv(fr\"{path}caracteristiques.csv\", encoding='ISO-8859-1', sep=',', low_memory=False)\n",
    "df_lieux = pd.read_csv(fr\"{path}lieux.csv\", encoding='ISO-8859-1', sep=',', low_memory=False)\n",
    "df_vehicules = pd.read_csv(fr\"{path}vehicules.csv\", encoding='ISO-8859-1', sep=',', low_memory=False)\n",
    "df_usagers = pd.read_csv(fr\"{path}usagers.csv\", encoding='ISO-8859-1', sep=',', low_memory=False)"
   ]
  },
  {
   "cell_type": "code",
   "execution_count": 3,
   "metadata": {},
   "outputs": [
    {
     "name": "stdout",
     "output_type": "stream",
     "text": [
      "[2005 2006 2007 2008 2009 2010 2011 2012 2013 2014 2015 2016 2017 2018\n",
      " 2019]\n",
      "[2005 2006 2007 2008 2009 2010 2011 2012 2013 2014 2015 2016 2017 2018\n",
      " 2019]\n",
      "[2005 2006 2007 2008 2009 2010 2011 2012 2013 2014 2015 2016 2017 2018\n",
      " 2019]\n",
      "[2005 2006 2007 2008 2009 2010 2011 2012 2013 2014 2015 2016 2017 2018\n",
      " 2019]\n"
     ]
    }
   ],
   "source": [
    "df_caracteristiques = df_caracteristiques.drop(df_caracteristiques[df_caracteristiques['annee'] == 2020].index)\n",
    "df_caracteristiques = df_caracteristiques.drop(df_caracteristiques[df_caracteristiques['annee'] == 2021].index)\n",
    "print(df_caracteristiques['annee'].unique())\n",
    "\n",
    "df_lieux = df_lieux.drop(df_lieux[df_lieux['annee'] == 2020].index)\n",
    "df_lieux = df_lieux.drop(df_lieux[df_lieux['annee'] == 2021].index)\n",
    "print(df_lieux['annee'].unique())\n",
    "\n",
    "df_vehicules = df_vehicules.drop(df_vehicules[df_vehicules['annee'] == 2020].index)\n",
    "df_vehicules = df_vehicules.drop(df_vehicules[df_vehicules['annee'] == 2021].index)\n",
    "print(df_vehicules['annee'].unique())\n",
    "\n",
    "df_usagers = df_usagers.drop(df_usagers[df_usagers['annee'] == 2020].index)\n",
    "df_usagers = df_usagers.drop(df_usagers[df_usagers['annee'] == 2021].index)\n",
    "print(df_usagers['annee'].unique())"
   ]
  },
  {
   "cell_type": "code",
   "execution_count": 4,
   "metadata": {},
   "outputs": [
    {
     "name": "stdout",
     "output_type": "stream",
     "text": [
      "Colonnes des caracteristiques : Index(['Unnamed: 0', 'num_acc', 'mois', 'jour', 'hrmn', 'lum', 'agg', 'int',\n",
      "       'atm', 'col', 'com', 'adr', 'gps', 'lat', 'long', 'dep', 'annee'],\n",
      "      dtype='object')\n",
      "\n",
      "Colonnes des Lieux : Index(['Unnamed: 0', 'num_acc', 'catr', 'voie', 'v1', 'v2', 'circ', 'nbv',\n",
      "       'pr', 'pr1', 'vosp', 'prof', 'plan', 'lartpc', 'larrout', 'surf',\n",
      "       'infra', 'situ', 'env1', 'annee', 'vma'],\n",
      "      dtype='object')\n",
      "\n",
      "Colonnes des  Vehicules : Index(['Unnamed: 0', 'num_acc', 'senc', 'catv', 'occutc', 'obs', 'obsm',\n",
      "       'choc', 'manv', 'num_veh', 'annee', 'id_vehicule', 'motor'],\n",
      "      dtype='object')\n",
      "\n",
      "Colonnes des  Usagers : Index(['Unnamed: 0', 'num_acc', 'place', 'catu', 'grav', 'sexe', 'trajet',\n",
      "       'secu', 'locp', 'actp', 'etatp', 'an_nais', 'num_veh', 'annee',\n",
      "       'id_vehicule', 'secu1', 'secu2', 'secu3'],\n",
      "      dtype='object')\n"
     ]
    }
   ],
   "source": [
    "print(f\"Colonnes des caracteristiques : {df_caracteristiques.columns}\\n\")\n",
    "print(f\"Colonnes des Lieux : {df_lieux.columns}\\n\")\n",
    "print(f\"Colonnes des  Vehicules : {df_vehicules.columns}\\n\")\n",
    "print(f\"Colonnes des  Usagers : {df_usagers.columns}\")"
   ]
  },
  {
   "cell_type": "code",
   "execution_count": 5,
   "metadata": {},
   "outputs": [
    {
     "data": {
      "text/plain": [
       "0             294400\n",
       "1             280200\n",
       "2             280000\n",
       "3             240800\n",
       "4             247500\n",
       "             ...    \n",
       "1017304    5,0561200\n",
       "1017305    7,7269000\n",
       "1017306    2,3457600\n",
       "1017307    2,2237590\n",
       "1017308    2,1751101\n",
       "Name: long, Length: 1017309, dtype: object"
      ]
     },
     "execution_count": 5,
     "metadata": {},
     "output_type": "execute_result"
    }
   ],
   "source": [
    "df_caracteristiques['long']"
   ]
  },
  {
   "cell_type": "code",
   "execution_count": 6,
   "metadata": {},
   "outputs": [
    {
     "data": {
      "text/html": [
       "<div>\n",
       "<style scoped>\n",
       "    .dataframe tbody tr th:only-of-type {\n",
       "        vertical-align: middle;\n",
       "    }\n",
       "\n",
       "    .dataframe tbody tr th {\n",
       "        vertical-align: top;\n",
       "    }\n",
       "\n",
       "    .dataframe thead th {\n",
       "        text-align: right;\n",
       "    }\n",
       "</style>\n",
       "<table border=\"1\" class=\"dataframe\">\n",
       "  <thead>\n",
       "    <tr style=\"text-align: right;\">\n",
       "      <th></th>\n",
       "      <th>long</th>\n",
       "      <th>lat</th>\n",
       "    </tr>\n",
       "  </thead>\n",
       "  <tbody>\n",
       "    <tr>\n",
       "      <th>0</th>\n",
       "      <td>294400</td>\n",
       "      <td>5051500</td>\n",
       "    </tr>\n",
       "    <tr>\n",
       "      <th>1</th>\n",
       "      <td>280200</td>\n",
       "      <td>5053700</td>\n",
       "    </tr>\n",
       "    <tr>\n",
       "      <th>2</th>\n",
       "      <td>280000</td>\n",
       "      <td>5054600</td>\n",
       "    </tr>\n",
       "    <tr>\n",
       "      <th>3</th>\n",
       "      <td>240800</td>\n",
       "      <td>5098700</td>\n",
       "    </tr>\n",
       "    <tr>\n",
       "      <th>4</th>\n",
       "      <td>247500</td>\n",
       "      <td>5096400</td>\n",
       "    </tr>\n",
       "    <tr>\n",
       "      <th>...</th>\n",
       "      <td>...</td>\n",
       "      <td>...</td>\n",
       "    </tr>\n",
       "    <tr>\n",
       "      <th>1017304</th>\n",
       "      <td>5,0561200</td>\n",
       "      <td>45,6666600</td>\n",
       "    </tr>\n",
       "    <tr>\n",
       "      <th>1017305</th>\n",
       "      <td>7,7269000</td>\n",
       "      <td>48,5769000</td>\n",
       "    </tr>\n",
       "    <tr>\n",
       "      <th>1017306</th>\n",
       "      <td>2,3457600</td>\n",
       "      <td>48,7717000</td>\n",
       "    </tr>\n",
       "    <tr>\n",
       "      <th>1017307</th>\n",
       "      <td>2,2237590</td>\n",
       "      <td>48,7772890</td>\n",
       "    </tr>\n",
       "    <tr>\n",
       "      <th>1017308</th>\n",
       "      <td>2,1751101</td>\n",
       "      <td>48,8351236</td>\n",
       "    </tr>\n",
       "  </tbody>\n",
       "</table>\n",
       "<p>1017309 rows × 2 columns</p>\n",
       "</div>"
      ],
      "text/plain": [
       "              long         lat\n",
       "0           294400     5051500\n",
       "1           280200     5053700\n",
       "2           280000     5054600\n",
       "3           240800     5098700\n",
       "4           247500     5096400\n",
       "...            ...         ...\n",
       "1017304  5,0561200  45,6666600\n",
       "1017305  7,7269000  48,5769000\n",
       "1017306  2,3457600  48,7717000\n",
       "1017307  2,2237590  48,7772890\n",
       "1017308  2,1751101  48,8351236\n",
       "\n",
       "[1017309 rows x 2 columns]"
      ]
     },
     "execution_count": 6,
     "metadata": {},
     "output_type": "execute_result"
    }
   ],
   "source": [
    "df_map = df_caracteristiques[['long','lat']]\n",
    "df_map"
   ]
  },
  {
   "cell_type": "code",
   "execution_count": 7,
   "metadata": {},
   "outputs": [
    {
     "name": "stderr",
     "output_type": "stream",
     "text": [
      "C:\\Users\\user\\AppData\\Local\\Temp\\ipykernel_75036\\1025301320.py:1: SettingWithCopyWarning: \n",
      "A value is trying to be set on a copy of a slice from a DataFrame.\n",
      "Try using .loc[row_indexer,col_indexer] = value instead\n",
      "\n",
      "See the caveats in the documentation: https://pandas.pydata.org/pandas-docs/stable/user_guide/indexing.html#returning-a-view-versus-a-copy\n",
      "  df_map['long'] = pd.to_numeric(df_map['long'], errors='coerce')\n",
      "C:\\Users\\user\\AppData\\Local\\Temp\\ipykernel_75036\\1025301320.py:2: SettingWithCopyWarning: \n",
      "A value is trying to be set on a copy of a slice from a DataFrame.\n",
      "Try using .loc[row_indexer,col_indexer] = value instead\n",
      "\n",
      "See the caveats in the documentation: https://pandas.pydata.org/pandas-docs/stable/user_guide/indexing.html#returning-a-view-versus-a-copy\n",
      "  df_map['lat'] = pd.to_numeric(df_map['lat'], errors='coerce')\n"
     ]
    }
   ],
   "source": [
    "df_map['long'] = pd.to_numeric(df_map['long'], errors='coerce')\n",
    "df_map['lat'] = pd.to_numeric(df_map['lat'], errors='coerce')\n",
    "\n",
    "df_map = df_map.dropna(subset=['long', 'lat'])"
   ]
  },
  {
   "cell_type": "code",
   "execution_count": 8,
   "metadata": {},
   "outputs": [
    {
     "data": {
      "text/plain": [
       "(-524600.0, 612850000000.0, 0.0, 5564823.0)"
      ]
     },
     "execution_count": 8,
     "metadata": {},
     "output_type": "execute_result"
    }
   ],
   "source": [
    "BBox = ((df_map.long.min(), df_map.long.max(), df_map.lat.min(), df_map.lat.max()))\n",
    "BBox"
   ]
  },
  {
   "cell_type": "code",
   "execution_count": 9,
   "metadata": {},
   "outputs": [
    {
     "name": "stderr",
     "output_type": "stream",
     "text": [
      "C:\\Users\\user\\AppData\\Local\\Temp\\ipykernel_75036\\2050468718.py:1: SettingWithCopyWarning: \n",
      "A value is trying to be set on a copy of a slice from a DataFrame.\n",
      "Try using .loc[row_indexer,col_indexer] = value instead\n",
      "\n",
      "See the caveats in the documentation: https://pandas.pydata.org/pandas-docs/stable/user_guide/indexing.html#returning-a-view-versus-a-copy\n",
      "  df_map['long'] = df_map['long'].apply(lambda x: round(x / 1000, 3))\n",
      "C:\\Users\\user\\AppData\\Local\\Temp\\ipykernel_75036\\2050468718.py:2: SettingWithCopyWarning: \n",
      "A value is trying to be set on a copy of a slice from a DataFrame.\n",
      "Try using .loc[row_indexer,col_indexer] = value instead\n",
      "\n",
      "See the caveats in the documentation: https://pandas.pydata.org/pandas-docs/stable/user_guide/indexing.html#returning-a-view-versus-a-copy\n",
      "  df_map['lat'] = df_map['lat'].apply(lambda x: round(x / 1000, 3))\n"
     ]
    }
   ],
   "source": [
    "df_map['long'] = df_map['long'].apply(lambda x: round(x / 1000, 3))\n",
    "df_map['lat'] = df_map['lat'].apply(lambda x: round(x / 1000, 3))"
   ]
  },
  {
   "cell_type": "code",
   "execution_count": 10,
   "metadata": {},
   "outputs": [
    {
     "data": {
      "text/plain": [
       "(-524.6, 612850000.0, 0.0, 5564.823)"
      ]
     },
     "execution_count": 10,
     "metadata": {},
     "output_type": "execute_result"
    }
   ],
   "source": [
    "BBox = ((df_map.long.min(), df_map.long.max(), df_map.lat.min(), df_map.lat.max()))\n",
    "BBox"
   ]
  },
  {
   "cell_type": "code",
   "execution_count": 11,
   "metadata": {},
   "outputs": [
    {
     "data": {
      "text/html": [
       "<div>\n",
       "<style scoped>\n",
       "    .dataframe tbody tr th:only-of-type {\n",
       "        vertical-align: middle;\n",
       "    }\n",
       "\n",
       "    .dataframe tbody tr th {\n",
       "        vertical-align: top;\n",
       "    }\n",
       "\n",
       "    .dataframe thead th {\n",
       "        text-align: right;\n",
       "    }\n",
       "</style>\n",
       "<table border=\"1\" class=\"dataframe\">\n",
       "  <thead>\n",
       "    <tr style=\"text-align: right;\">\n",
       "      <th></th>\n",
       "      <th>long</th>\n",
       "      <th>lat</th>\n",
       "    </tr>\n",
       "  </thead>\n",
       "  <tbody>\n",
       "    <tr>\n",
       "      <th>count</th>\n",
       "      <td>4.681880e+05</td>\n",
       "      <td>468188.000000</td>\n",
       "    </tr>\n",
       "    <tr>\n",
       "      <th>mean</th>\n",
       "      <td>2.644373e+03</td>\n",
       "      <td>3278.131307</td>\n",
       "    </tr>\n",
       "    <tr>\n",
       "      <th>std</th>\n",
       "      <td>1.176891e+06</td>\n",
       "      <td>2145.177466</td>\n",
       "    </tr>\n",
       "    <tr>\n",
       "      <th>min</th>\n",
       "      <td>-5.246000e+02</td>\n",
       "      <td>0.000000</td>\n",
       "    </tr>\n",
       "    <tr>\n",
       "      <th>25%</th>\n",
       "      <td>0.000000e+00</td>\n",
       "      <td>0.000000</td>\n",
       "    </tr>\n",
       "    <tr>\n",
       "      <th>50%</th>\n",
       "      <td>1.297830e+02</td>\n",
       "      <td>4517.270000</td>\n",
       "    </tr>\n",
       "    <tr>\n",
       "      <th>75%</th>\n",
       "      <td>3.498000e+02</td>\n",
       "      <td>4848.525750</td>\n",
       "    </tr>\n",
       "    <tr>\n",
       "      <th>max</th>\n",
       "      <td>6.128500e+08</td>\n",
       "      <td>5564.823000</td>\n",
       "    </tr>\n",
       "  </tbody>\n",
       "</table>\n",
       "</div>"
      ],
      "text/plain": [
       "               long            lat\n",
       "count  4.681880e+05  468188.000000\n",
       "mean   2.644373e+03    3278.131307\n",
       "std    1.176891e+06    2145.177466\n",
       "min   -5.246000e+02       0.000000\n",
       "25%    0.000000e+00       0.000000\n",
       "50%    1.297830e+02    4517.270000\n",
       "75%    3.498000e+02    4848.525750\n",
       "max    6.128500e+08    5564.823000"
      ]
     },
     "execution_count": 11,
     "metadata": {},
     "output_type": "execute_result"
    }
   ],
   "source": [
    "df_map.describe()"
   ]
  },
  {
   "cell_type": "code",
   "execution_count": 20,
   "metadata": {},
   "outputs": [
    {
     "name": "stdout",
     "output_type": "stream",
     "text": [
      "long    float64\n",
      "lat     float64\n",
      "dtype: object\n"
     ]
    }
   ],
   "source": [
    "print(df_map.dtypes)"
   ]
  },
  {
   "cell_type": "code",
   "execution_count": 12,
   "metadata": {},
   "outputs": [],
   "source": [
    "df_clean = df_map[(df_map['long'] >= -5.1) & (df_map['long'] <= 9.6) & (df_map['lat'] >= 42.5) & (df_map['lat'] <= 51.1)]"
   ]
  },
  {
   "cell_type": "code",
   "execution_count": 14,
   "metadata": {},
   "outputs": [
    {
     "data": {
      "text/plain": [
       "(nan, nan, nan, nan)"
      ]
     },
     "execution_count": 14,
     "metadata": {},
     "output_type": "execute_result"
    }
   ],
   "source": [
    "BBox = ((df_clean['long'].min(), df_clean['long'].max(), df_clean['lat'].min(), df_clean['lat'].max()))\n",
    "BBox"
   ]
  },
  {
   "cell_type": "code",
   "execution_count": 15,
   "metadata": {},
   "outputs": [
    {
     "data": {
      "text/html": [
       "<div>\n",
       "<style scoped>\n",
       "    .dataframe tbody tr th:only-of-type {\n",
       "        vertical-align: middle;\n",
       "    }\n",
       "\n",
       "    .dataframe tbody tr th {\n",
       "        vertical-align: top;\n",
       "    }\n",
       "\n",
       "    .dataframe thead th {\n",
       "        text-align: right;\n",
       "    }\n",
       "</style>\n",
       "<table border=\"1\" class=\"dataframe\">\n",
       "  <thead>\n",
       "    <tr style=\"text-align: right;\">\n",
       "      <th></th>\n",
       "      <th>long</th>\n",
       "      <th>lat</th>\n",
       "    </tr>\n",
       "  </thead>\n",
       "  <tbody>\n",
       "  </tbody>\n",
       "</table>\n",
       "</div>"
      ],
      "text/plain": [
       "Empty DataFrame\n",
       "Columns: [long, lat]\n",
       "Index: []"
      ]
     },
     "execution_count": 15,
     "metadata": {},
     "output_type": "execute_result"
    }
   ],
   "source": []
  },
  {
   "cell_type": "code",
   "execution_count": 13,
   "metadata": {},
   "outputs": [
    {
     "ename": "ValueError",
     "evalue": "Axis limits cannot be NaN or Inf",
     "output_type": "error",
     "traceback": [
      "\u001b[1;31m---------------------------------------------------------------------------\u001b[0m",
      "\u001b[1;31mValueError\u001b[0m                                Traceback (most recent call last)",
      "\u001b[1;32m~\\AppData\\Local\\Temp\\ipykernel_75036\\1718608914.py\u001b[0m in \u001b[0;36m<module>\u001b[1;34m\u001b[0m\n\u001b[0;32m      7\u001b[0m \u001b[1;31m# set the map boundary box\u001b[0m\u001b[1;33m\u001b[0m\u001b[1;33m\u001b[0m\u001b[0m\n\u001b[0;32m      8\u001b[0m \u001b[0mBBox\u001b[0m \u001b[1;33m=\u001b[0m \u001b[1;33m(\u001b[0m\u001b[1;33m(\u001b[0m\u001b[0mdf_clean\u001b[0m\u001b[1;33m[\u001b[0m\u001b[1;34m'long'\u001b[0m\u001b[1;33m]\u001b[0m\u001b[1;33m.\u001b[0m\u001b[0mmin\u001b[0m\u001b[1;33m(\u001b[0m\u001b[1;33m)\u001b[0m\u001b[1;33m,\u001b[0m \u001b[0mdf_clean\u001b[0m\u001b[1;33m[\u001b[0m\u001b[1;34m'long'\u001b[0m\u001b[1;33m]\u001b[0m\u001b[1;33m.\u001b[0m\u001b[0mmax\u001b[0m\u001b[1;33m(\u001b[0m\u001b[1;33m)\u001b[0m\u001b[1;33m,\u001b[0m \u001b[0mdf_clean\u001b[0m\u001b[1;33m[\u001b[0m\u001b[1;34m'lat'\u001b[0m\u001b[1;33m]\u001b[0m\u001b[1;33m.\u001b[0m\u001b[0mmin\u001b[0m\u001b[1;33m(\u001b[0m\u001b[1;33m)\u001b[0m\u001b[1;33m,\u001b[0m \u001b[0mdf_clean\u001b[0m\u001b[1;33m[\u001b[0m\u001b[1;34m'lat'\u001b[0m\u001b[1;33m]\u001b[0m\u001b[1;33m.\u001b[0m\u001b[0mmax\u001b[0m\u001b[1;33m(\u001b[0m\u001b[1;33m)\u001b[0m\u001b[1;33m)\u001b[0m\u001b[1;33m)\u001b[0m\u001b[1;33m\u001b[0m\u001b[1;33m\u001b[0m\u001b[0m\n\u001b[1;32m----> 9\u001b[1;33m \u001b[0max\u001b[0m\u001b[1;33m.\u001b[0m\u001b[0mset_xlim\u001b[0m\u001b[1;33m(\u001b[0m\u001b[0mBBox\u001b[0m\u001b[1;33m[\u001b[0m\u001b[1;36m0\u001b[0m\u001b[1;33m]\u001b[0m\u001b[1;33m,\u001b[0m\u001b[0mBBox\u001b[0m\u001b[1;33m[\u001b[0m\u001b[1;36m1\u001b[0m\u001b[1;33m]\u001b[0m\u001b[1;33m)\u001b[0m\u001b[1;33m\u001b[0m\u001b[1;33m\u001b[0m\u001b[0m\n\u001b[0m\u001b[0;32m     10\u001b[0m \u001b[0max\u001b[0m\u001b[1;33m.\u001b[0m\u001b[0mset_ylim\u001b[0m\u001b[1;33m(\u001b[0m\u001b[0mBBox\u001b[0m\u001b[1;33m[\u001b[0m\u001b[1;36m2\u001b[0m\u001b[1;33m]\u001b[0m\u001b[1;33m,\u001b[0m\u001b[0mBBox\u001b[0m\u001b[1;33m[\u001b[0m\u001b[1;36m3\u001b[0m\u001b[1;33m]\u001b[0m\u001b[1;33m)\u001b[0m\u001b[1;33m\u001b[0m\u001b[1;33m\u001b[0m\u001b[0m\n\u001b[0;32m     11\u001b[0m \u001b[1;33m\u001b[0m\u001b[0m\n",
      "\u001b[1;32md:\\Anaconda\\lib\\site-packages\\matplotlib\\axes\\_base.py\u001b[0m in \u001b[0;36mset_xlim\u001b[1;34m(self, left, right, emit, auto, xmin, xmax)\u001b[0m\n\u001b[0;32m   3695\u001b[0m \u001b[1;33m\u001b[0m\u001b[0m\n\u001b[0;32m   3696\u001b[0m         \u001b[0mself\u001b[0m\u001b[1;33m.\u001b[0m\u001b[0m_process_unit_info\u001b[0m\u001b[1;33m(\u001b[0m\u001b[1;33m[\u001b[0m\u001b[1;33m(\u001b[0m\u001b[1;34m\"x\"\u001b[0m\u001b[1;33m,\u001b[0m \u001b[1;33m(\u001b[0m\u001b[0mleft\u001b[0m\u001b[1;33m,\u001b[0m \u001b[0mright\u001b[0m\u001b[1;33m)\u001b[0m\u001b[1;33m)\u001b[0m\u001b[1;33m]\u001b[0m\u001b[1;33m,\u001b[0m \u001b[0mconvert\u001b[0m\u001b[1;33m=\u001b[0m\u001b[1;32mFalse\u001b[0m\u001b[1;33m)\u001b[0m\u001b[1;33m\u001b[0m\u001b[1;33m\u001b[0m\u001b[0m\n\u001b[1;32m-> 3697\u001b[1;33m         \u001b[0mleft\u001b[0m \u001b[1;33m=\u001b[0m \u001b[0mself\u001b[0m\u001b[1;33m.\u001b[0m\u001b[0m_validate_converted_limits\u001b[0m\u001b[1;33m(\u001b[0m\u001b[0mleft\u001b[0m\u001b[1;33m,\u001b[0m \u001b[0mself\u001b[0m\u001b[1;33m.\u001b[0m\u001b[0mconvert_xunits\u001b[0m\u001b[1;33m)\u001b[0m\u001b[1;33m\u001b[0m\u001b[1;33m\u001b[0m\u001b[0m\n\u001b[0m\u001b[0;32m   3698\u001b[0m         \u001b[0mright\u001b[0m \u001b[1;33m=\u001b[0m \u001b[0mself\u001b[0m\u001b[1;33m.\u001b[0m\u001b[0m_validate_converted_limits\u001b[0m\u001b[1;33m(\u001b[0m\u001b[0mright\u001b[0m\u001b[1;33m,\u001b[0m \u001b[0mself\u001b[0m\u001b[1;33m.\u001b[0m\u001b[0mconvert_xunits\u001b[0m\u001b[1;33m)\u001b[0m\u001b[1;33m\u001b[0m\u001b[1;33m\u001b[0m\u001b[0m\n\u001b[0;32m   3699\u001b[0m \u001b[1;33m\u001b[0m\u001b[0m\n",
      "\u001b[1;32md:\\Anaconda\\lib\\site-packages\\matplotlib\\axes\\_base.py\u001b[0m in \u001b[0;36m_validate_converted_limits\u001b[1;34m(self, limit, convert)\u001b[0m\n\u001b[0;32m   3612\u001b[0m             if (isinstance(converted_limit, Real)\n\u001b[0;32m   3613\u001b[0m                     and not np.isfinite(converted_limit)):\n\u001b[1;32m-> 3614\u001b[1;33m                 \u001b[1;32mraise\u001b[0m \u001b[0mValueError\u001b[0m\u001b[1;33m(\u001b[0m\u001b[1;34m\"Axis limits cannot be NaN or Inf\"\u001b[0m\u001b[1;33m)\u001b[0m\u001b[1;33m\u001b[0m\u001b[1;33m\u001b[0m\u001b[0m\n\u001b[0m\u001b[0;32m   3615\u001b[0m             \u001b[1;32mreturn\u001b[0m \u001b[0mconverted_limit\u001b[0m\u001b[1;33m\u001b[0m\u001b[1;33m\u001b[0m\u001b[0m\n\u001b[0;32m   3616\u001b[0m \u001b[1;33m\u001b[0m\u001b[0m\n",
      "\u001b[1;31mValueError\u001b[0m: Axis limits cannot be NaN or Inf"
     ]
    },
    {
     "data": {
      "image/png": "[encoded data removed]",
      "text/plain": [
       "<Figure size 1000x800 with 1 Axes>"
      ]
     },
     "metadata": {},
     "output_type": "display_data"
    }
   ],
   "source": [
    "# create a figure and axis object\n",
    "fig, ax = plt.subplots(figsize=(10, 8))\n",
    "\n",
    "# plot the scatter points\n",
    "ax.scatter(df_clean['long'], df_clean['lat'], color='red', s=10)\n",
    "\n",
    "# set the map boundary box\n",
    "BBox = ((df_clean['long'].min(), df_clean['long'].max(), df_clean['lat'].min(), df_clean['lat'].max()))\n",
    "ax.set_xlim(BBox[0],BBox[1])\n",
    "ax.set_ylim(BBox[2],BBox[3])\n",
    "\n",
    "# add labels and title\n",
    "ax.set_xlabel('Longitude')\n",
    "ax.set_ylabel('Latitude')\n",
    "ax.set_title('Scatter plot of GPS data')"
   ]
  },
  {
   "cell_type": "code",
   "execution_count": null,
   "metadata": {},
   "outputs": [
    {
     "data": {
      "image/png": "[encoded data removed]",
      "text/plain": [
       "<Figure size 1000x800 with 1 Axes>"
      ]
     },
     "metadata": {},
     "output_type": "display_data"
    },
    {
     "name": "stderr",
     "output_type": "stream",
     "text": [
      "C:\\Users\\user\\AppData\\Local\\Temp\\ipykernel_81832\\1144862914.py:10: UserWarning: To output multiple subplots, the figure containing the passed axes is being cleared.\n",
      "  df_map.hist(ax=ax)\n"
     ]
    },
    {
     "data": {
      "image/png": "[encoded data removed]",
      "text/plain": [
       "<Figure size 1000x800 with 2 Axes>"
      ]
     },
     "metadata": {},
     "output_type": "display_data"
    }
   ],
   "source": [
    "# create a boxplot\n",
    "fig, ax = plt.subplots(figsize=(10, 8))\n",
    "df_map.boxplot(ax=ax)\n",
    "plt.show()\n",
    "\n",
    "# create a histogram\n",
    "fig, ax = plt.subplots(figsize=(10, 8))\n",
    "df_map.hist(ax=ax)\n",
    "plt.show()"
   ]
  },
  {
   "cell_type": "code",
   "execution_count": null,
   "metadata": {},
   "outputs": [],
   "source": [
    "# Create a map object centered on France\n",
    "france_map = folium.Map(location=[46.603354, 1.888334], zoom_start=6)\n",
    "\n",
    "for index, row in df_clean.iterrows():\n",
    "    folium.Marker(location=[row['lat'], row['long']]).add_to(france_map)\n",
    "    \n",
    "\n",
    "france_map.save('france_data_map.html')"
   ]
  },
  {
   "cell_type": "code",
   "execution_count": null,
   "metadata": {},
   "outputs": [],
   "source": []
  }
 ],
 "metadata": {
  "kernelspec": {
   "display_name": "base",
   "language": "python",
   "name": "python3"
  },
  "language_info": {
   "codemirror_mode": {
    "name": "ipython",
    "version": 3
   },
   "file_extension": ".py",
   "mimetype": "text/x-python",
   "name": "python",
   "nbconvert_exporter": "python",
   "pygments_lexer": "ipython3",
   "version": "3.9.13"
  },
  "orig_nbformat": 4
 },
 "nbformat": 4,
 "nbformat_minor": 2
}
